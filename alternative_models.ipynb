{
 "cells": [
  {
   "cell_type": "code",
   "execution_count": null,
   "metadata": {},
   "outputs": [],
   "source": [
    "import pandas as pd\n",
    "import numpy as np\n",
    "import matplotlib.pyplot as plt\n",
    "import seaborn as sns\n",
    "import support\n",
    "\n",
    "data = support.get_data()"
   ]
  },
  {
   "cell_type": "code",
   "execution_count": null,
   "metadata": {},
   "outputs": [],
   "source": [
    "param_grid_GradientBoostingClassifier = {\n",
    "    \"n_estimators\": np.linspace(250, 1000, 4, dtype=int),\n",
    "    \"learning_rate\": [0.01, 0.1],\n",
    "    \"max_depth\": [3, 4],\n",
    "    \"random_state\": [1],\n",
    "}\n",
    "\n",
    "param_grid_RandomForestClassifier = {\n",
    "    \"n_estimators\": np.linspace(800, 1300, 3, dtype=int),\n",
    "    \"max_depth\": np.linspace(20, 50, 4, dtype=int),\n",
    "    \"min_samples_split\": [2, 5],\n",
    "    \"n_jobs\": [-1],\n",
    "    \"random_state\": [1],\n",
    "}"
   ]
  },
  {
   "cell_type": "markdown",
   "metadata": {},
   "source": [
    "# Baseline Gradient Boosting\n",
    "A gradient boosting model for classification has an accuracy score of **0.7844**."
   ]
  },
  {
   "cell_type": "code",
   "execution_count": null,
   "metadata": {},
   "outputs": [
    {
     "name": "stdout",
     "output_type": "stream",
     "text": [
      "Fitting 5 folds for each of 16 candidates, totalling 80 fits\n",
      "GradientBoostingClassifier best parameters: {'learning_rate': 0.01, 'max_depth': 3, 'n_estimators': np.int64(1000), 'random_state': 1}\n",
      "GradientBoostingClassifier best score: 0.7733835974396471\n"
     ]
    }
   ],
   "source": [
    "from sklearn.ensemble import GradientBoostingClassifier\n",
    "\n",
    "X_train, X_test, y_train, y_test = support.get_scaled_data(support.get_data())\n",
    "\n",
    "grid_search_GradientBoostingClassifier = GridSearchCV(GradientBoostingClassifier(), param_grid_GradientBoostingClassifier, cv=5, n_jobs=-1, verbose=3)\n",
    "\n",
    "grid_search_GradientBoostingClassifier.fit(X_train, y_train)\n",
    "\n",
    "best_params = grid_search_GradientBoostingClassifier.best_params_\n",
    "best_score = grid_search_GradientBoostingClassifier.best_score_\n",
    "best_estimator = grid_search_GradientBoostingClassifier.best_estimator_\n",
    "\n",
    "print(f'GradientBoostingClassifier best parameters: {best_params}')\n",
    "print(f'GradientBoostingClassifier best score: {best_score}')\n",
    "\n",
    "scores['baseline_GradientBoostingClassifier'] = (best_score, best_estimator.score(X_test, y_test))"
   ]
  },
  {
   "cell_type": "markdown",
   "metadata": {},
   "source": [
    "# Baseline Random Forest\n",
    "A random forest model for classification has an accuracy score of **0.7616**."
   ]
  },
  {
   "cell_type": "code",
   "execution_count": null,
   "metadata": {},
   "outputs": [
    {
     "name": "stdout",
     "output_type": "stream",
     "text": [
      "Fitting 5 folds for each of 24 candidates, totalling 120 fits\n",
      "RandomForestClassifier best parameters: {'max_depth': np.int64(20), 'min_samples_split': 2, 'n_estimators': np.int64(800), 'n_jobs': -1, 'random_state': 1}\n",
      "RandomForestClassifier best score: 0.7733863943295056\n"
     ]
    }
   ],
   "source": [
    "from sklearn.ensemble import RandomForestClassifier\n",
    "\n",
    "X_train, X_test, y_train, y_test = support.get_scaled_data(support.get_data())\n",
    "\n",
    "grid_search_RandomForestClassifier = GridSearchCV(RandomForestClassifier(), param_grid_RandomForestClassifier, cv=5, n_jobs=-1, verbose=3)\n",
    "\n",
    "grid_search_RandomForestClassifier.fit(X_train, y_train)\n",
    "\n",
    "best_params = grid_search_RandomForestClassifier.best_params_\n",
    "best_score = grid_search_RandomForestClassifier.best_score_\n",
    "best_estimator = grid_search_RandomForestClassifier.best_estimator_\n",
    "\n",
    "print(f'RandomForestClassifier best parameters: {best_params}')\n",
    "print(f'RandomForestClassifier best score: {best_score}')\n",
    "\n",
    "scores['baseline_RandomForestClassifier'] = (best_score, best_estimator.score(X_test, y_test))"
   ]
  },
  {
   "cell_type": "markdown",
   "metadata": {},
   "source": [
    "# Data Preprocessing\n",
    "Multi-class columns are converted to binary columns using one-hot encoding. Float and integer columns are standardized. The data is then split into training and testing sets.\n",
    "\n",
    "Look in support.py for the code used to preprocess the data."
   ]
  },
  {
   "cell_type": "markdown",
   "metadata": {},
   "source": [
    "# Gradient Boosting post-preprocessing"
   ]
  },
  {
   "cell_type": "code",
   "execution_count": null,
   "metadata": {},
   "outputs": [
    {
     "name": "stdout",
     "output_type": "stream",
     "text": [
      "Shape of X before OneHot Encoding and Standardizing: (4424, 36)\n",
      "Shape of X after OneHot Encoding and Standardizing: (4424, 262)\n",
      "Fitting 5 folds for each of 1 candidates, totalling 5 fits\n",
      "GradientBoostingClassifier best parameters: {'learning_rate': 0.01, 'max_depth': 4, 'n_estimators': 762, 'random_state': 1}\n",
      "GradientBoostingClassifier best score: 0.7753617976809787\n"
     ]
    }
   ],
   "source": [
    "X_train, X_test, y_train, y_test, preprocessor = support.get_preprocessed_data(support.get_data())\n",
    "\n",
    "# comment out this line to run all the hyperparameter tuning listed above.\n",
    "# it will be slow\n",
    "param_grid_GradientBoostingClassifier = {'learning_rate': [0.01], 'max_depth': [4], 'n_estimators': [762], 'random_state': [1]}\n",
    "\n",
    "grid_search_GradientBoostingClassifier = GridSearchCV(GradientBoostingClassifier(), param_grid_GradientBoostingClassifier, cv=5, n_jobs=-1, verbose=3)\n",
    "\n",
    "grid_search_GradientBoostingClassifier.fit(X_train, y_train)\n",
    "\n",
    "best_params = grid_search_GradientBoostingClassifier.best_params_\n",
    "best_score = grid_search_GradientBoostingClassifier.best_score_\n",
    "best_estimator = grid_search_GradientBoostingClassifier.best_estimator_\n",
    "\n",
    "print(f'GradientBoostingClassifier best parameters: {best_params}')\n",
    "print(f'GradientBoostingClassifier best score: {best_score}')\n",
    "\n",
    "scores['post_preprocessing_GradientBoostingClassifier'] = (best_score, best_estimator.score(X_test, y_test))\n"
   ]
  },
  {
   "cell_type": "markdown",
   "metadata": {},
   "source": [
    "# Random Forest post-preprocessing"
   ]
  },
  {
   "cell_type": "code",
   "execution_count": null,
   "metadata": {},
   "outputs": [
    {
     "name": "stdout",
     "output_type": "stream",
     "text": [
      "Shape of X before OneHot Encoding and Standardizing: (4424, 36)\n",
      "Shape of X after OneHot Encoding and Standardizing: (4424, 262)\n",
      "Fitting 5 folds for each of 24 candidates, totalling 120 fits\n",
      "RandomForestClassifier best parameters: {'max_depth': np.int64(40), 'min_samples_split': 2, 'n_estimators': np.int64(1300), 'n_jobs': -1, 'random_state': 1}\n",
      "RandomForestClassifier best score: 0.7733899903307522\n"
     ]
    }
   ],
   "source": [
    "X_train, X_test, y_train, y_test, preprocessor = support.get_preprocessed_data(support.get_data())\n",
    "\n",
    "grid_search_RandomForestClassifier = GridSearchCV(RandomForestClassifier(), param_grid_RandomForestClassifier, cv=5, n_jobs=-1, verbose=3)\n",
    "\n",
    "grid_search_RandomForestClassifier.fit(X_train, y_train)\n",
    "\n",
    "best_params = grid_search_RandomForestClassifier.best_params_\n",
    "best_score = grid_search_RandomForestClassifier.best_score_\n",
    "best_estimator = grid_search_RandomForestClassifier.best_estimator_\n",
    "\n",
    "print(f'RandomForestClassifier best parameters: {best_params}')\n",
    "print(f'RandomForestClassifier best score: {best_score}')\n",
    "\n",
    "scores['post_preprocessing_RandomForestClassifier'] = (best_score, best_estimator.score(X_test, y_test))"
   ]
  },
  {
   "cell_type": "markdown",
   "metadata": {},
   "source": [
    "# PCA for Dimensionality Reduction\n",
    "I'll begin by using PCA to identify the number of features to explain 99% of variance. I'll then use this number of features in the subsquent models."
   ]
  },
  {
   "cell_type": "code",
   "execution_count": null,
   "metadata": {},
   "outputs": [
    {
     "name": "stdout",
     "output_type": "stream",
     "text": [
      "Shape of X before OneHot Encoding and Standardizing: (4424, 36)\n",
      "Shape of X after OneHot Encoding and Standardizing: (4424, 262)\n"
     ]
    },
    {
     "data": {
      "image/png": "[encoded data removed]",
      "text/plain": [
       "<Figure size 1200x1200 with 1 Axes>"
      ]
     },
     "metadata": {},
     "output_type": "display_data"
    }
   ],
   "source": [
    "# PCA\n",
    "\n",
    "from sklearn.decomposition import PCA\n",
    "\n",
    "X_train, X_test, y_train, y_test, preprocessor = support.get_preprocessed_data(support.get_data())\n",
    "pca = PCA()\n",
    "X_pca = pca.fit_transform(X_train)\n",
    "\n",
    "explained_variance_95 = np.argmax(np.cumsum(pca.explained_variance_ratio_) > 0.95)\n",
    "explained_variance_99 = np.argmax(np.cumsum(pca.explained_variance_ratio_) > 0.99)\n",
    "\n",
    "plt.figure(figsize=(12, 12))\n",
    "plt.plot(np.cumsum(pca.explained_variance_ratio_))\n",
    "plt.scatter(explained_variance_95, 0.95, color=\"red\")\n",
    "plt.text(explained_variance_95, 0.95, f\"95% explained\\n({explained_variance_95} components)\", ha=\"right\")\n",
    "plt.scatter(explained_variance_99, 0.99, color=\"red\")\n",
    "plt.text(explained_variance_99, 0.99, f\"99% explained\\n({explained_variance_99} components)\", ha=\"right\")\n",
    "plt.xlabel(\"Number of Components\")\n",
    "plt.ylabel(\"Variance (%)\")\n",
    "plt.title(\"Explained Variance\")\n",
    "plt.savefig(\"explained_variance.png\")\n"
   ]
  },
  {
   "cell_type": "code",
   "execution_count": null,
   "metadata": {},
   "outputs": [
    {
     "name": "stdout",
     "output_type": "stream",
     "text": [
      "Shape of X before OneHot Encoding and Standardizing: (4424, 36)\n",
      "Shape of X after OneHot Encoding and Standardizing: (4424, 262)\n",
      "Fitting 5 folds for each of 1 candidates, totalling 5 fits\n",
      "GradientBoostingClassifier best parameters: {'learning_rate': 0.1, 'max_depth': 3, 'n_estimators': 287, 'random_state': 1}\n",
      "GradientBoostingClassifier best score: 0.7615163937701277\n"
     ]
    }
   ],
   "source": [
    "X_train, X_test, y_train, y_test, preprocessor = support.get_preprocessed_data(support.get_data())\n",
    "\n",
    "pca = PCA(n_components=explained_variance_99)\n",
    "X_train = pca.fit_transform(X_train)\n",
    "X_test = pca.transform(X_test)\n",
    "\n",
    "param_grid_GradientBoostingClassifier = {'learning_rate': [0.1], 'max_depth': [3], 'n_estimators': [287], 'random_state': [1]}\n",
    "\n",
    "grid_search_GradientBoostingClassifier = GridSearchCV(GradientBoostingClassifier(), param_grid_GradientBoostingClassifier, cv=5, n_jobs=-1,verbose=3)\n",
    "\n",
    "grid_search_GradientBoostingClassifier.fit(X_train, y_train)\n",
    "\n",
    "best_params = grid_search_GradientBoostingClassifier.best_params_\n",
    "best_score = grid_search_GradientBoostingClassifier.best_score_\n",
    "best_estimator = grid_search_GradientBoostingClassifier.best_estimator_\n",
    "\n",
    "print(f'GradientBoostingClassifier best parameters: {best_params}')\n",
    "print(f'GradientBoostingClassifier best score: {best_score}')\n",
    "\n",
    "scores['post_pca_GradientBoostingClassifier'] = (best_score, best_estimator.score(X_test, y_test))\n",
    "\n"
   ]
  },
  {
   "cell_type": "code",
   "execution_count": null,
   "metadata": {},
   "outputs": [
    {
     "name": "stdout",
     "output_type": "stream",
     "text": [
      "Shape of X before OneHot Encoding and Standardizing: (4424, 36)\n",
      "Shape of X after OneHot Encoding and Standardizing: (4424, 262)\n",
      "Fitting 5 folds for each of 24 candidates, totalling 120 fits\n",
      "RandomForestClassifier best parameters: {'max_depth': np.int64(30), 'min_samples_split': 2, 'n_estimators': np.int64(1050), 'n_jobs': -1, 'random_state': 1}\n",
      "RandomForestClassifier best score: 0.7581245654831826\n"
     ]
    }
   ],
   "source": [
    "X_train, X_test, y_train, y_test, preprocessor = support.get_preprocessed_data(support.get_data())\n",
    "\n",
    "pca = PCA(n_components=explained_variance_99)\n",
    "X_train = pca.fit_transform(X_train)\n",
    "X_test = pca.transform(X_test)\n",
    "\n",
    "# comment out this line to run all the hyperparameter tuning listed above\n",
    "param_grid_RandomForestClassifier = {'learning_rate': [0.1], 'max_depth': [3], 'n_estimators': [287], 'random_state': [1]}\n",
    "\n",
    "grid_search_RandomForestClassifier = GridSearchCV(RandomForestClassifier(), param_grid_RandomForestClassifier, cv=5, n_jobs=-1, verbose=3)\n",
    "\n",
    "grid_search_RandomForestClassifier.fit(X_train, y_train)\n",
    "\n",
    "best_params = grid_search_RandomForestClassifier.best_params_\n",
    "best_score = grid_search_RandomForestClassifier.best_score_\n",
    "best_estimator = grid_search_RandomForestClassifier.best_estimator_\n",
    "\n",
    "print(f'RandomForestClassifier best parameters: {best_params}')\n",
    "print(f'RandomForestClassifier best score: {best_score}')\n",
    "\n",
    "scores['post_pca_RandomForestClassifier'] = (best_score, best_estimator.score(X_test, y_test))\n"
   ]
  }
 ],
 "metadata": {
  "language_info": {
   "name": "python"
  }
 },
 "nbformat": 4,
 "nbformat_minor": 2
}
